{
  "nbformat": 4,
  "nbformat_minor": 0,
  "metadata": {
    "colab": {
      "provenance": [],
      "toc_visible": true,
      "include_colab_link": true
    },
    "kernelspec": {
      "name": "python3",
      "display_name": "Python 3"
    },
    "language_info": {
      "name": "python"
    }
  },
  "cells": [
    {
      "cell_type": "markdown",
      "metadata": {
        "id": "view-in-github",
        "colab_type": "text"
      },
      "source": [
        "<a href=\"https://colab.research.google.com/github/zzzzzsdf/eotossy/blob/main/%ED%8C%8C%EC%9D%B4%EC%8D%AC_%EA%B3%B5%EB%B6%80.ipynb\" target=\"_parent\"><img src=\"https://colab.research.google.com/assets/colab-badge.svg\" alt=\"Open In Colab\"/></a>"
      ]
    },
    {
      "cell_type": "code",
      "source": [
        "def happyBirtday():\n",
        "  print(\"생일축하 합니다 !\")\n",
        "  print(\"생일축하 합니다 !\")\n",
        "  print(\"사랑하는 친구의 생일축하 합니다 !\")\n",
        "\n",
        "happyBirtday()\n",
        "target_word = \"특정단어\"\n",
        "replacement = \"OOO\"\n",
        "\n",
        "text = input(\"텍스트를 입력하세요: \")\n",
        "\n",
        "\n",
        "result = text.replace(target_word, replacement)\n",
        "\n",
        "\n",
        "print(\"변환된 텍스트:\", result)\n",
        "import random\n",
        "\n",
        "\n",
        "coin_flips = [random.randint(0, 1) for _ in range(10)]\n",
        "print(\"동전 던지기 결과:\", coin_flips)\n",
        "\n",
        "\n",
        "max_count = 0\n",
        "current_count = 0\n",
        "\n",
        "for flip in coin_flips:\n",
        "    if flip == coin_flips[0]:\n",
        "        current_count += 1\n",
        "    else:\n",
        "        current_count = 1\n",
        "\n",
        "    if current_count > max_count:\n",
        "        max_count = current_count\n",
        "\n",
        "print(\"가장 길게 연속해서 나온 횟수:\", max_count)\n"
      ],
      "metadata": {
        "colab": {
          "base_uri": "https://localhost:8080/"
        },
        "id": "cDgR4cAcLXz7",
        "outputId": "ad2ca4ad-d6f6-448f-f35f-f9c07341f5cf"
      },
      "execution_count": null,
      "outputs": [
        {
          "output_type": "stream",
          "name": "stdout",
          "text": [
            "생일축하 합니다 !\n",
            "생일축하 합니다 !\n",
            "사랑하는 친구의 생일축하 합니다 !\n"
          ]
        }
      ]
    },
    {
      "cell_type": "code",
      "source": [
        "heroes = [ \"아이언맨\",\"토르\", \"헐크\", \"스칼렛위치\"]\n",
        "heroes[1]=\"닥터 스트레인지\"\n",
        "print(heroes) letters = ('a','b','c','d')\n",
        "len(letters)\n",
        "#공통문자출력\n",
        "s1=input(\"첫 번째 문자열:\")\n",
        "s2=input(\"두 번째 문자열:\")\n",
        "list1=list(set(s1)&set(s2))\n",
        "print(\"공통적인 글자:\", end=\"\")\n",
        "for i in list1:\n",
        "    print(i, end =\"\")\n",
        "\n",
        "string1 = input(\"첫 번째 문자열을 입력하세요: \")\n",
        "string2 = input(\"두 번째 문자열을 입력하세요: \")\n",
        "\n",
        "\n",
        "common_chars = set(string1) & set(string2)\n",
        "\n",
        "\n",
        "if common_chars:\n",
        "    print(\"두 문자열에 모두 포함된 글자:\", ' '.join(common_chars))\n",
        "else:\n",
        "    print(\"두 문자열에 모두 포함된 글자가 없습니다.\")\n",
        "\n",
        "#중복되지않은 단어수\n",
        "txt = input(\"입력 텍스트:\")\n",
        "words = txt.split(\"문자열을 인수를 기준으로 분리시켜 리스트로 반환 \")\n",
        "unique = set (words)\n",
        "\n",
        "print(\"사용된 단어의 개수=\", len(unique))\n",
        "print(unique)"
      ],
      "metadata": {
        "colab": {
          "base_uri": "https://localhost:8080/"
        },
        "id": "dMIzk12jmJBX",
        "outputId": "2c3f79ec-b33d-47d8-881a-a12a3e9189ca"
      },
      "execution_count": null,
      "outputs": [
        {
          "output_type": "stream",
          "name": "stdout",
          "text": [
            "['아이언맨', '닥터 스트레인지', '헐크', '스칼렛위치']\n"
          ]
        }
      ]
    },
    {
      "cell_type": "code",
      "source": [
        "board = [['' for x in range(3)] for y in range(3)]\n",
        "while True:\n",
        "    for r in range(3):\n",
        "        print(\"  \"+board[r][0]+\"|   \"+board[r][1]+\"|   \"+ board[r][2])\n",
        "        if (r != 2):\n",
        "            print(\" --- | --- | ---\")\n",
        "\n",
        "    x = int(input(\"다음 수의 x좌표를 입력하시오 \"))\n",
        "    y = int(input(\"다음 수의 y좌표를 입력하시오 \"))\n",
        "\n",
        "    if board [x][y] != ' ':\n",
        "        print(\"잘못된 위치입니다. \")\n",
        "        continue\n",
        "    else:\n",
        "        board [x][y] = 'X'\n",
        "\n",
        "    done = False\n",
        "    for i in range(3):\n",
        "        for j in range(3):\n",
        "            if board [i][j] == ' ' and not done:\n",
        "                board [i][j] = '0'\n",
        "                done=True\n",
        "                break\n"
      ],
      "metadata": {
        "colab": {
          "base_uri": "https://localhost:8080/"
        },
        "id": "Wbm5xiXmesrt",
        "outputId": "9ec1512b-7164-48a0-a984-ed050e27b2c7"
      },
      "execution_count": null,
      "outputs": [
        {
          "output_type": "execute_result",
          "data": {
            "text/plain": [
              "4"
            ]
          },
          "metadata": {},
          "execution_count": 7
        }
      ]
    },
    {
      "cell_type": "code",
      "source": [
        "def main():\n",
        "    address_book ={}\n",
        "    while True:\n",
        "        user = display_menu()\n",
        "\n",
        "    if user == 1:\n",
        "        name,number = get_contract(user)\n",
        "        address_book[name]=number\n",
        "\n",
        "    elif user == 2:\n",
        "        name = get_contract(user)\n",
        "        print(f'{name}의 전화번호:{address_book[name]}')\n",
        "        choice = input('삭제?(Y/N)')\n",
        "        if choice == 'Y' or 'N':\n",
        "            address_book.pop(name)\n",
        "            print(\"삭제\")\n",
        "            print()\n",
        "        else:\n",
        "            print(\"취소\")\n",
        "            print()\n",
        "        elif user == 3:\n",
        "            pass\n",
        "        elif user == 4:\n",
        "            for key in sorted(address_book):\n",
        "                print(f'{key},의 전화번호: {address+book[key]}')\n",
        "            print()\n",
        "        else:\n",
        "            break\n",
        "\n",
        "def get_contract(select):\n",
        "    if select !=4:\n",
        "        name = input('Name:')\n",
        "        if select == 1:\n",
        "            numver = input('Number:')\n",
        "            return = name, number\n",
        "        return name\n",
        "    return None\n",
        "\n",
        "def display_menu():\n",
        "    print('1. 연락처 추가')\n",
        "    print('2. 연락처 삭제')\n",
        "    print('3. 연락처 검색')\n",
        "    print('4. 연락처 출력')\n",
        "    print('5. 종료')\n",
        "\n",
        "    select = int(input('메뉴 항목을 선택하시오: '))\n",
        "    print()\n",
        "    return select\n",
        "\n",
        "main()\n",
        "\n",
        "\n",
        "schedule_dict = {}\n",
        "\n",
        "\n",
        "while True:\n",
        "    date = input(\"날짜를 입력하세요 (yyyy-mm-dd): \")\n",
        "    if not date:\n",
        "        break\n",
        "\n",
        "    schedule = input(\"일정을 입력하세요: \")\n",
        "\n",
        "\n",
        "    if date in schedule_dict:\n",
        "        schedule_dict[date].append(schedule)\n",
        "    else:\n",
        "        schedule_dict[date] = [schedule]\n",
        "\n",
        "\n",
        "for date, schedules in schedule_dict.items():\n",
        "    print(date + \":\")\n",
        "    for schedule in schedules:\n",
        "        print(\"- \" + schedule)\n",
        "    print()\n",
        "2\n",
        "#단어카운트\n",
        "text_data=\"Create the highest, grandest vision possible for your life, because you become what you believe\"\n",
        "word_dic={}\n",
        "for w in text_data.split():\n",
        "    if w in word_dic:\n",
        "        word_dic[w] +=1\n",
        "    else:\n",
        "        word_dic[w] = 1\n",
        "for w, count in sorted(word_dic.iten()):\n",
        "    print(w, \"등장횟수=\",count)"
      ],
      "metadata": {
        "id": "tHWw2rG3HrzR"
      },
      "execution_count": null,
      "outputs": []
    },
    {
      "cell_type": "code",
      "source": [
        "STUDENT = 5\n",
        "\n",
        "scores =[]\n",
        "scoreSum = 0\n",
        "\n",
        "for i in range(STUDENT):\n",
        "    value = int(input(\"성적을 입력하시오: \"))\n",
        "    scores.append(value)\n",
        "    scoreSum += value\n",
        "\n",
        "scoreAvg = scoreSum / len(scores)\n",
        "\n",
        "highScoreStudent = 0\n",
        "for i in range(len(scores)):\n",
        "    if scores[i] >= 80:\n",
        "        highScoreStudents += 1\n",
        "\n",
        "print(\"성적 평균은\", scoreAvg, \"입니다.\")\n",
        "print(\"80점 이상 성적을 받은 학생은\", highScoreStuents, \"명입니다.\")\n",
        "\n",
        "array_3d = [[[1 for _ in range(4)] for _ in range(3)] for _ in range(2)]\n",
        "print(array_3d)\n",
        "\n",
        "#data = [3, 8, 4, 10, 15]\n",
        "\n",
        "\n",
        "max_value = max(data)\n",
        "\n",
        "\n",
        "for value in data:\n",
        "    bar = '*' * value\n",
        "    print(bar)\n"
      ],
      "metadata": {
        "id": "GkxZOovipf1R"
      },
      "execution_count": null,
      "outputs": []
    },
    {
      "cell_type": "code",
      "source": [
        "new_list = []\n",
        "for x in range(1,30):\n",
        "    for y in ranege(x,30):\n",
        "        for z in range(y,30):\n",
        "            if x**2+y**2==z**2:\n",
        "                new_list.append((x,y,z))\n",
        "print(new_list)\n",
        "\n",
        "new_list = [(x,y,z) for x in range(1,30) for y in range(1,30) for z in range(1,30) if x**2+y**2==z*2]\n",
        "print(new_list)"
      ],
      "metadata": {
        "id": "1lpiNZCp_8Yf"
      },
      "execution_count": null,
      "outputs": []
    },
    {
      "cell_type": "code",
      "source": [
        "rows = 6\n",
        "cols = 6\n",
        "table = []\n",
        "\n",
        "for row in range(rows):\n",
        "    table += [[0]*cols]\n",
        "#2차원 리스트의 각 요소에 rows와 cols 값을 더하여 저장한다.\n",
        "for row in range(rows):\n",
        "    for col in range(cols):\n",
        "        table[row][col]=(row+1col+1)\n",
        "\n",
        "print =(table)"
      ],
      "metadata": {
        "id": "kSd23SHuBLkC"
      },
      "execution_count": null,
      "outputs": []
    },
    {
      "cell_type": "code",
      "source": [
        "english_dict={}\n",
        "english_dict[\"one\"] = \"하나\"\n",
        "english_dict[\"two\"] = \"둘\"\n",
        "english_dict[\"three\"] = \"셋\"\n",
        "word = intput(\"단어를 입력하시오:\");\n",
        "print(englist_dict[words])\n",
        "#머리 글자어\n",
        "phrase = input(\"문자열을 입력하시오:\")\n",
        "acronym = \"\"\n",
        "for word in phrase.upper().split():\n",
        "    acronym += word[0]\n",
        "print(acronym)\n",
        "\n",
        "address=input(\"이메일 주소를 입력하시오:\")\n",
        "(id, domain)= address.split(\"@\")\n",
        "print(address)\n",
        "print(\"아이디\"+id)\n",
        "print(\"도메인\"+domain)\n",
        "sentance = input(\"문자열을 입력하시오:\")\n",
        "table={\"alphas\":0,\"digits\":0,\"spaces\":0}\n",
        "for i in sentence:\n",
        "    if i.isalpha():\n",
        "        table[\"alphas\"]+=1\n",
        "    if i.isdigit():\n",
        "        table[\"digits\"]+=1\n",
        "    if i.isspace():\n",
        "        table[\"spaces\"]+=1\n",
        "print(table)"
      ],
      "metadata": {
        "id": "hQLe1jJVB0e_"
      },
      "execution_count": null,
      "outputs": []
    },
    {
      "cell_type": "code",
      "source": [
        "def checkPass(p):\n",
        "    if len(p) < 8:\n",
        "        return False\n",
        "\n",
        "    has_lowercase = False\n",
        "    has_uppercase = False\n",
        "    has_digit = False\n",
        "\n",
        "    for char in p:\n",
        "        if char.islower():\n",
        "            has_lowercase = True\n",
        "        elif char.isupper():\n",
        "            has_uppercase = True\n",
        "        elif char.isdigit():\n",
        "            has_digit = True\n",
        "\n",
        "    return has_lowercase and has_uppercase and has_digit\n",
        "\n",
        "password = input(\"패스워드를 입력하시오: \")\n",
        "\n",
        "if checkPass(password):\n",
        "    print(\"사용할 수 있습니다.\")\n",
        "else:\n",
        "    print(\"사용할 수 없습니다.\")\n",
        "#패스워드검증"
      ],
      "metadata": {
        "id": "ltQZJtHPGKAu"
      },
      "execution_count": null,
      "outputs": []
    },
    {
      "cell_type": "code",
      "source": [
        "def getIntRange(a, b):\n",
        "    while True:\n",
        "        value = int(input(\"월을 입력하시오.\"))\n",
        "        if a <= value <= b:\n",
        "            return value\n",
        "        else:\n",
        "            print(\"\")\n",
        "\n",
        "month = getIntRange(1, 12)\n",
        "day = getIntRange(1, 31)\n",
        "\n",
        "print(f\"선택된 날짜: {month}월 {day}일\")\n",
        "#소수 출력\n",
        "def testPrime(n):\n",
        "    if n < 2:\n",
        "        return False\n",
        "    for i in range(2, int(n ** 0.5) + 1):\n",
        "        if n % i == 0:\n",
        "            return False\n",
        "    return True\n",
        "\n",
        "\n",
        "for num in range(2, 101):\n",
        "    if testPrime(num):\n",
        "        print(num, end=\" \")"
      ],
      "metadata": {
        "id": "OCjEmftKMl-V"
      },
      "execution_count": null,
      "outputs": []
    },
    {
      "cell_type": "code",
      "source": [
        "#주사위\n",
        "import random\n",
        "\n",
        "def dice_game():\n",
        "    user_dice = random.randint(1, 6)\n",
        "    computer_dice = random.randint(1, 6)\n",
        "\n",
        "    print(\"사용자의 주사위: \", user_dice)\n",
        "    print(\"컴퓨터의 주사위: \", computer_dice)\n",
        "\n",
        "    if user_dice > computer_dice:\n",
        "        print(\"사용자가 이겼습니다!\")\n",
        "    elif user_dice < computer_dice:\n",
        "        print(\"컴퓨터가 이겼습니다!\")\n",
        "    else:\n",
        "        print(\"무승부입니다!\")\n",
        "\n",
        "def main():\n",
        "    print(\"주사위 게임을 시작합니다.\")\n",
        "    while True:\n",
        "        play_again = input(\"주사위 게임을 계속 하시겠습니까? (y/n): \")\n",
        "        if play_again.lower() != 'y':\n",
        "            break\n",
        "        dice_game()\n",
        "    print(\"게임이 종료되었습니다.\")\n",
        "\n",
        "# main 함수 실행\n",
        "main()"
      ],
      "metadata": {
        "id": "8N3pgRFkNAQg"
      },
      "execution_count": null,
      "outputs": []
    }
  ]
}